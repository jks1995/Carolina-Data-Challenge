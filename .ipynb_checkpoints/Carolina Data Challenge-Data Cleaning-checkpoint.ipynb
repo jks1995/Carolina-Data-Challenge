{
 "cells": [
  {
   "cell_type": "code",
   "execution_count": 15,
   "metadata": {},
   "outputs": [
    {
     "name": "stderr",
     "output_type": "stream",
     "text": [
      "/usr/local/lib/python3.5/dist-packages/IPython/core/interactiveshell.py:2698: DtypeWarning: Columns (17) have mixed types. Specify dtype option on import or set low_memory=False.\n",
      "  interactivity=interactivity, compiler=compiler, result=result)\n"
     ]
    }
   ],
   "source": [
    "import pandas as pd\n",
    "df = pd.read_csv('https://query.data.world/s/yVjCltW5yFnDbwy0lmj7doFPPTB9K9')"
   ]
  },
  {
   "cell_type": "code",
   "execution_count": 59,
   "metadata": {
    "collapsed": true
   },
   "outputs": [],
   "source": [
    "import datetime "
   ]
  },
  {
   "cell_type": "code",
   "execution_count": 23,
   "metadata": {},
   "outputs": [
    {
     "name": "stdout",
     "output_type": "stream",
     "text": [
      "CMPLNT_NUM\n",
      "CMPLNT_FR_DT\n",
      "CMPLNT_FR_TM\n",
      "CMPLNT_TO_DT\n",
      "CMPLNT_TO_TM\n",
      "RPT_DT\n",
      "KY_CD\n",
      "OFNS_DESC\n",
      "PD_CD\n",
      "PD_DESC\n",
      "CRM_ATPT_CPTD_CD\n",
      "LAW_CAT_CD\n",
      "JURIS_DESC\n",
      "BORO_NM\n",
      "ADDR_PCT_CD\n",
      "LOC_OF_OCCUR_DESC\n",
      "PREM_TYP_DESC\n",
      "PARKS_NM\n",
      "HADEVELOPT\n",
      "X_COORD_CD\n",
      "Y_COORD_CD\n",
      "Latitude\n",
      "Longitude\n",
      "Lat_Lon\n"
     ]
    }
   ],
   "source": [
    "for x in df.columns.values: # check out data headers\n",
    "    print(x)"
   ]
  },
  {
   "cell_type": "code",
   "execution_count": 94,
   "metadata": {},
   "outputs": [
    {
     "name": "stdout",
     "output_type": "stream",
     "text": [
      "FORGERY\n",
      "MURDER & NON-NEGL. MANSLAUGHTER\n",
      "DANGEROUS DRUGS\n",
      "ASSAULT 3 & RELATED OFFENSES\n",
      "FELONY ASSAULT\n",
      "DANGEROUS WEAPONS\n",
      "PETIT LARCENY\n",
      "GRAND LARCENY\n",
      "ROBBERY\n",
      "OFFENSES AGAINST PUBLIC ADMINI\n",
      "CRIMINAL MISCHIEF & RELATED OF\n",
      "RAPE\n",
      "INTOXICATED & IMPAIRED DRIVING\n",
      "HARRASSMENT 2\n",
      "SEX CRIMES\n",
      "BURGLARY\n",
      "CRIMINAL TRESPASS\n",
      "MISCELLANEOUS PENAL LAW\n",
      "VEHICLE AND TRAFFIC LAWS\n",
      "OFF. AGNST PUB ORD SENSBLTY &\n",
      "FRAUDS\n",
      "GRAND LARCENY OF MOTOR VEHICLE\n",
      "OFFENSES INVOLVING FRAUD\n",
      "OFFENSES AGAINST THE PERSON\n",
      "FRAUDULENT ACCOSTING\n",
      "OTHER OFFENSES RELATED TO THEF\n",
      "GAMBLING\n",
      "ARSON\n",
      "POSSESSION OF STOLEN PROPERTY\n",
      "UNAUTHORIZED USE OF A VEHICLE\n",
      "THEFT-FRAUD\n",
      "DISORDERLY CONDUCT\n",
      "nan\n",
      "ADMINISTRATIVE CODE\n",
      "CHILD ABANDONMENT/NON SUPPORT\n",
      "OTHER STATE LAWS (NON PENAL LA\n",
      "NYS LAWS-UNCLASSIFIED FELONY\n",
      "BURGLAR'S TOOLS\n",
      "THEFT OF SERVICES\n",
      "PETIT LARCENY OF MOTOR VEHICLE\n",
      "ALCOHOLIC BEVERAGE CONTROL LAW\n",
      "AGRICULTURE & MRKTS LAW-UNCLASSIFIED\n",
      "ENDAN WELFARE INCOMP\n",
      "KIDNAPPING & RELATED OFFENSES\n",
      "DISRUPTION OF A RELIGIOUS SERV\n",
      "PROSTITUTION & RELATED OFFENSES\n",
      "JOSTLING\n",
      "ANTICIPATORY OFFENSES\n",
      "NYS LAWS-UNCLASSIFIED VIOLATION\n",
      "HOMICIDE-NEGLIGENT-VEHICLE\n",
      "OFFENSES AGAINST PUBLIC SAFETY\n",
      "OTHER STATE LAWS\n",
      "ESCAPE 3\n",
      "OFFENSES RELATED TO CHILDREN\n",
      "UNLAWFUL POSS. WEAP. ON SCHOOL\n",
      "ADMINISTRATIVE CODES\n",
      "NEW YORK CITY HEALTH CODE\n",
      "LOITERING/GAMBLING (CARDS, DIC\n",
      "ABORTION\n",
      "KIDNAPPING AND RELATED OFFENSES\n",
      "LOITERING\n",
      "OTHER STATE LAWS (NON PENAL LAW)\n",
      "INTOXICATED/IMPAIRED DRIVING\n",
      "FORTUNE TELLING\n",
      "KIDNAPPING\n",
      "UNDER THE INFLUENCE OF DRUGS\n",
      "OTHER TRAFFIC INFRACTION\n",
      "HOMICIDE-NEGLIGENT,UNCLASSIFIE\n",
      "LOITERING FOR DRUG PURPOSES\n",
      "OFFENSES AGAINST MARRIAGE UNCL\n"
     ]
    }
   ],
   "source": [
    "for x in df['OFNS_DESC'].unique(): # view unique crime types \n",
    "    print(x)"
   ]
  },
  {
   "cell_type": "code",
   "execution_count": 132,
   "metadata": {
    "collapsed": true
   },
   "outputs": [],
   "source": [
    "# create list of crimes that we want for our visualization\n",
    "crimes = ['MURDER & NON-NEGL. MANSLAUGHTER', 'ASSAULT 3 & RELATED OFFENSES', 'FELONY ASSAULT', 'ROBBERY', 'RAPE', 'SEX CRIMES', 'HARRASSMENT 2', 'HOMICIDE-NEGLIGENT,UNCLASSIFIE', 'KIDNAPPING', 'KIDNAPPING AND RELATED OFFENSES', 'HOMICIDE-NEGLIGENT-VEHICLE', 'KIDNAPPING & RELATED OFFENSES', 'PETIT LARCENY OF MOTOR VEHICLE', 'PETIT LARCENY', 'GRAND LARCENY', 'GRAND LARCENY OF MOTOR VEHICLE']\n",
    "# create list of locations we want to exclude\n",
    "private_loc = ['HOTEL/MOTEL', 'RESIDENCE - PUBLIC HOUSING', 'RESIDENCE - APT. HOUSE', 'RESIDENCE-HOUSE', 'PARKING LOT/GARAGE (PRIVATE)']"
   ]
  },
  {
   "cell_type": "code",
   "execution_count": 133,
   "metadata": {},
   "outputs": [],
   "source": [
    "df1 = df[df['OFNS_DESC'].isin(crimes)] # get only crimes we're interested in \n",
    "df1 = df1[~df1['PREM_TYP_DESC'].isin(private_loc)] # get only public location crimes\n",
    "# drop nulls for specified columns\n",
    "df1 = df1.dropna(subset = ['CMPLNT_FR_DT', 'CMPLNT_FR_TM', 'BORO_NM', 'ADDR_PCT_CD'])"
   ]
  },
  {
   "cell_type": "code",
   "execution_count": 134,
   "metadata": {},
   "outputs": [
    {
     "name": "stdout",
     "output_type": "stream",
     "text": [
      "Percent Remaining: 36.73074651150927\n"
     ]
    }
   ],
   "source": [
    "print('Percent Remaining: {}'.format(100*df1.shape[0]/df.shape[0]))"
   ]
  },
  {
   "cell_type": "code",
   "execution_count": 141,
   "metadata": {},
   "outputs": [],
   "source": [
    "def getSeason(date):\n",
    "    \"\"\"\n",
    "    Funciton to convert the date to the season.\n",
    "    \n",
    "    Input: date (datetime.datetime obj)\n",
    "    \"\"\"\n",
    "    y = date.year \n",
    "    spring = datetime.datetime(y, 3, 20)\n",
    "    summer = datetime.datetime(y, 6, 21)\n",
    "    fall = datetime.datetime(y, 9, 22)\n",
    "    winter = datetime.datetime(y, 12, 21)\n",
    "    if date >= spring and date < summer:\n",
    "        return \"SPRING\"\n",
    "    if date >= summer and date < fall:\n",
    "        return \"SUMMER\"\n",
    "    if date >= fall and date < winter:\n",
    "        return \"FALL\"\n",
    "    if date >= winter or date < spring:\n",
    "        return \"WINTER\"\n",
    "    return -1"
   ]
  },
  {
   "cell_type": "code",
   "execution_count": 142,
   "metadata": {},
   "outputs": [],
   "source": [
    "# create season column\n",
    "df1['SEASON'] = df1['CMPLNT_FR_DT'].map(lambda x: getSeason(datetime.datetime.strptime(x, '%m/%d/%Y')))\n",
    "# replace weird crime names to something more digestable\n",
    "d = {'ASSAULT 3 & RELATED OFFENSES': 'ASSAULT', \n",
    "     'FELONY ASSAULT': 'ASSAULT', \n",
    "     'HARRASSMENT 2': 'HARRASSMENT',\n",
    "    'HOMICIDE-NEGLIGENT-VEHICLE': 'NEGLIGENT HOMICIDE',\n",
    "    'HOMICIDE-NEGLIGENT,UNCLASSIFIE': 'NEGLIGENT HOMICIDE',\n",
    "    'KIDNAPPING & RELATED OFFENSES': 'KIDNAPPING',\n",
    "    'KIDNAPPING AND RELATED OFFENSES': 'KIDNAPPING',\n",
    "     'MURDER & NON-NEGL. MANSLAUGHTER': 'MURDER'\n",
    "    }\n",
    "df1['OFNS_DESC'] = df1['OFNS_DESC'].replace(d)"
   ]
  },
  {
   "cell_type": "code",
   "execution_count": 158,
   "metadata": {},
   "outputs": [
    {
     "name": "stdout",
     "output_type": "stream",
     "text": [
      "MURDER\n",
      "ASSAULT\n",
      "PETIT LARCENY\n",
      "GRAND LARCENY\n",
      "ROBBERY\n",
      "RAPE\n",
      "SEX CRIMES\n",
      "HARRASSMENT\n",
      "GRAND LARCENY OF MOTOR VEHICLE\n",
      "PETIT LARCENY OF MOTOR VEHICLE\n",
      "KIDNAPPING\n",
      "NEGLIGENT HOMICIDE\n"
     ]
    }
   ],
   "source": [
    "# check out the new crime names\n",
    "for i in df1['OFNS_DESC'].unique():\n",
    "    print(i)"
   ]
  },
  {
   "cell_type": "code",
   "execution_count": 181,
   "metadata": {},
   "outputs": [],
   "source": [
    "# import populations of precinct \n",
    "# source https://fusiontables.google.com/DataSource?dsrcid=767562#rows:id=1\n",
    "pdf = pd.read_csv('/home/jakesell/Documents/datachall/NYC_Blocks_2010CensusData_Plus_Precincts.csv')"
   ]
  },
  {
   "cell_type": "code",
   "execution_count": 180,
   "metadata": {},
   "outputs": [],
   "source": [
    "# create series that relates pricinct to its total population\n",
    "s = pdf.groupby('precinct')['P0010001'].sum()"
   ]
  },
  {
   "cell_type": "code",
   "execution_count": 177,
   "metadata": {},
   "outputs": [],
   "source": [
    "def getPop(p):\n",
    "    \"\"\"\n",
    "    Get the population of a precinct based on precinct number\n",
    "    \n",
    "    Input: p (precinct, int)\n",
    "    Output: total population (int)\n",
    "    \"\"\"\n",
    "    try:\n",
    "        return s[p]\n",
    "    except KeyError:\n",
    "        return 0\n",
    "    \n",
    "# add column with a row's precinct population\n",
    "df1['precint_pop'] = df1['ADDR_PCT_CD'].map(lambda x: getPop(x))"
   ]
  },
  {
   "cell_type": "code",
   "execution_count": 179,
   "metadata": {
    "collapsed": true
   },
   "outputs": [],
   "source": [
    "df1.to_csv('CleanedCrimeData.csv') # export"
   ]
  },
  {
   "cell_type": "code",
   "execution_count": null,
   "metadata": {
    "collapsed": true
   },
   "outputs": [],
   "source": []
  }
 ],
 "metadata": {
  "kernelspec": {
   "display_name": "Python 3",
   "language": "python",
   "name": "python3"
  },
  "language_info": {
   "codemirror_mode": {
    "name": "ipython",
    "version": 3
   },
   "file_extension": ".py",
   "mimetype": "text/x-python",
   "name": "python",
   "nbconvert_exporter": "python",
   "pygments_lexer": "ipython3",
   "version": "3.5.2"
  }
 },
 "nbformat": 4,
 "nbformat_minor": 2
}
