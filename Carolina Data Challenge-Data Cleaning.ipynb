{
 "cells": [
  {
   "cell_type": "code",
   "execution_count": 15,
   "metadata": {},
   "outputs": [
    {
     "name": "stderr",
     "output_type": "stream",
     "text": [
      "/usr/local/lib/python3.5/dist-packages/IPython/core/interactiveshell.py:2698: DtypeWarning: Columns (17) have mixed types. Specify dtype option on import or set low_memory=False.\n",
      "  interactivity=interactivity, compiler=compiler, result=result)\n"
     ]
    }
   ],
   "source": [
    "import pandas as pd\n",
    "df = pd.read_csv('https://query.data.world/s/yVjCltW5yFnDbwy0lmj7doFPPTB9K9')"
   ]
  },
  {
   "cell_type": "code",
   "execution_count": 59,
   "metadata": {
    "collapsed": true
   },
   "outputs": [],
   "source": [
    "import datetime "
   ]
  },
  {
   "cell_type": "code",
   "execution_count": 23,
   "metadata": {},
   "outputs": [
    {
     "name": "stdout",
     "output_type": "stream",
     "text": [
      "CMPLNT_NUM\n",
      "CMPLNT_FR_DT\n",
      "CMPLNT_FR_TM\n",
      "CMPLNT_TO_DT\n",
      "CMPLNT_TO_TM\n",
      "RPT_DT\n",
      "KY_CD\n",
      "OFNS_DESC\n",
      "PD_CD\n",
      "PD_DESC\n",
      "CRM_ATPT_CPTD_CD\n",
      "LAW_CAT_CD\n",
      "JURIS_DESC\n",
      "BORO_NM\n",
      "ADDR_PCT_CD\n",
      "LOC_OF_OCCUR_DESC\n",
      "PREM_TYP_DESC\n",
      "PARKS_NM\n",
      "HADEVELOPT\n",
      "X_COORD_CD\n",
      "Y_COORD_CD\n",
      "Latitude\n",
      "Longitude\n",
      "Lat_Lon\n"
     ]
    }
   ],
   "source": [
    "for x in df.columns.values: # check out data headers\n",
    "    print(x)"
   ]
  },
  {
   "cell_type": "code",
   "execution_count": 94,
   "metadata": {},
   "outputs": [
    {
     "name": "stdout",
     "output_type": "stream",
     "text": [
      "FORGERY\n",
      "MURDER & NON-NEGL. MANSLAUGHTER\n",
      "DANGEROUS DRUGS\n",
      "ASSAULT 3 & RELATED OFFENSES\n",
      "FELONY ASSAULT\n",
      "DANGEROUS WEAPONS\n",
      "PETIT LARCENY\n",
      "GRAND LARCENY\n",
      "ROBBERY\n",
      "OFFENSES AGAINST PUBLIC ADMINI\n",
      "CRIMINAL MISCHIEF & RELATED OF\n",
      "RAPE\n",
      "INTOXICATED & IMPAIRED DRIVING\n",
      "HARRASSMENT 2\n",
      "SEX CRIMES\n",
      "BURGLARY\n",
      "CRIMINAL TRESPASS\n",
      "MISCELLANEOUS PENAL LAW\n",
      "VEHICLE AND TRAFFIC LAWS\n",
      "OFF. AGNST PUB ORD SENSBLTY &\n",
      "FRAUDS\n",
      "GRAND LARCENY OF MOTOR VEHICLE\n",
      "OFFENSES INVOLVING FRAUD\n",
      "OFFENSES AGAINST THE PERSON\n",
      "FRAUDULENT ACCOSTING\n",
      "OTHER OFFENSES RELATED TO THEF\n",
      "GAMBLING\n",
      "ARSON\n",
      "POSSESSION OF STOLEN PROPERTY\n",
      "UNAUTHORIZED USE OF A VEHICLE\n",
      "THEFT-FRAUD\n",
      "DISORDERLY CONDUCT\n",
      "nan\n",
      "ADMINISTRATIVE CODE\n",
      "CHILD ABANDONMENT/NON SUPPORT\n",
      "OTHER STATE LAWS (NON PENAL LA\n",
      "NYS LAWS-UNCLASSIFIED FELONY\n",
      "BURGLAR'S TOOLS\n",
      "THEFT OF SERVICES\n",
      "PETIT LARCENY OF MOTOR VEHICLE\n",
      "ALCOHOLIC BEVERAGE CONTROL LAW\n",
      "AGRICULTURE & MRKTS LAW-UNCLASSIFIED\n",
      "ENDAN WELFARE INCOMP\n",
      "KIDNAPPING & RELATED OFFENSES\n",
      "DISRUPTION OF A RELIGIOUS SERV\n",
      "PROSTITUTION & RELATED OFFENSES\n",
      "JOSTLING\n",
      "ANTICIPATORY OFFENSES\n",
      "NYS LAWS-UNCLASSIFIED VIOLATION\n",
      "HOMICIDE-NEGLIGENT-VEHICLE\n",
      "OFFENSES AGAINST PUBLIC SAFETY\n",
      "OTHER STATE LAWS\n",
      "ESCAPE 3\n",
      "OFFENSES RELATED TO CHILDREN\n",
      "UNLAWFUL POSS. WEAP. ON SCHOOL\n",
      "ADMINISTRATIVE CODES\n",
      "NEW YORK CITY HEALTH CODE\n",
      "LOITERING/GAMBLING (CARDS, DIC\n",
      "ABORTION\n",
      "KIDNAPPING AND RELATED OFFENSES\n",
      "LOITERING\n",
      "OTHER STATE LAWS (NON PENAL LAW)\n",
      "INTOXICATED/IMPAIRED DRIVING\n",
      "FORTUNE TELLING\n",
      "KIDNAPPING\n",
      "UNDER THE INFLUENCE OF DRUGS\n",
      "OTHER TRAFFIC INFRACTION\n",
      "HOMICIDE-NEGLIGENT,UNCLASSIFIE\n",
      "LOITERING FOR DRUG PURPOSES\n",
      "OFFENSES AGAINST MARRIAGE UNCL\n"
     ]
    }
   ],
   "source": [
    "for x in df['OFNS_DESC'].unique(): # view unique crime types \n",
    "    print(x)"
   ]
  },
  {
   "cell_type": "code",
   "execution_count": 186,
   "metadata": {
    "collapsed": true
   },
   "outputs": [],
   "source": [
    "# create list of crimes that we want for our visualization\n",
    "crimes = ['MURDER & NON-NEGL. MANSLAUGHTER', 'ASSAULT 3 & RELATED OFFENSES', 'FELONY ASSAULT', 'ROBBERY', 'HARRASSMENT 2', 'HOMICIDE-NEGLIGENT,UNCLASSIFIE', 'KIDNAPPING', 'KIDNAPPING AND RELATED OFFENSES', 'HOMICIDE-NEGLIGENT-VEHICLE', 'KIDNAPPING & RELATED OFFENSES', 'PETIT LARCENY OF MOTOR VEHICLE', 'PETIT LARCENY', 'GRAND LARCENY', 'GRAND LARCENY OF MOTOR VEHICLE']\n",
    "# create list of locations we want to exclude\n",
    "private_loc = ['HOTEL/MOTEL', 'RESIDENCE - PUBLIC HOUSING', 'RESIDENCE - APT. HOUSE', 'RESIDENCE-HOUSE', 'PARKING LOT/GARAGE (PRIVATE)']"
   ]
  },
  {
   "cell_type": "code",
   "execution_count": 187,
   "metadata": {},
   "outputs": [],
   "source": [
    "df1 = df[df['OFNS_DESC'].isin(crimes)] # get only crimes we're interested in \n",
    "df1 = df1[~df1['PREM_TYP_DESC'].isin(private_loc)] # get only public location crimes\n",
    "# drop nulls for specified columns\n",
    "df1 = df1.dropna(subset = ['CMPLNT_FR_DT', 'CMPLNT_FR_TM', 'BORO_NM', 'ADDR_PCT_CD'])"
   ]
  },
  {
   "cell_type": "code",
   "execution_count": 188,
   "metadata": {},
   "outputs": [
    {
     "name": "stdout",
     "output_type": "stream",
     "text": [
      "Percent Remaining: 36.19458488504158\n"
     ]
    }
   ],
   "source": [
    "print('Percent Remaining: {}'.format(100*df1.shape[0]/df.shape[0]))"
   ]
  },
  {
   "cell_type": "code",
   "execution_count": 189,
   "metadata": {},
   "outputs": [],
   "source": [
    "def getSeason(date):\n",
    "    \"\"\"\n",
    "    Funciton to convert the date to the season.\n",
    "    \n",
    "    Input: date (datetime.datetime obj)\n",
    "    \"\"\"\n",
    "    y = date.year \n",
    "    spring = datetime.datetime(y, 3, 20)\n",
    "    summer = datetime.datetime(y, 6, 21)\n",
    "    fall = datetime.datetime(y, 9, 22)\n",
    "    winter = datetime.datetime(y, 12, 21)\n",
    "    if date >= spring and date < summer:\n",
    "        return \"SPRING\"\n",
    "    if date >= summer and date < fall:\n",
    "        return \"SUMMER\"\n",
    "    if date >= fall and date < winter:\n",
    "        return \"FALL\"\n",
    "    if date >= winter or date < spring:\n",
    "        return \"WINTER\"\n",
    "    return -1"
   ]
  },
  {
   "cell_type": "code",
   "execution_count": 190,
   "metadata": {},
   "outputs": [],
   "source": [
    "# create season column\n",
    "df1['SEASON'] = df1['CMPLNT_FR_DT'].map(lambda x: getSeason(datetime.datetime.strptime(x, '%m/%d/%Y')))\n",
    "# replace weird crime names to something more digestable\n",
    "d = {'ASSAULT 3 & RELATED OFFENSES': 'ASSAULT', \n",
    "     'FELONY ASSAULT': 'ASSAULT', \n",
    "     'HARRASSMENT 2': 'HARRASSMENT',\n",
    "    'HOMICIDE-NEGLIGENT-VEHICLE': 'NEGLIGENT HOMICIDE',\n",
    "    'HOMICIDE-NEGLIGENT,UNCLASSIFIE': 'NEGLIGENT HOMICIDE',\n",
    "    'KIDNAPPING & RELATED OFFENSES': 'KIDNAPPING',\n",
    "    'KIDNAPPING AND RELATED OFFENSES': 'KIDNAPPING',\n",
    "     'MURDER & NON-NEGL. MANSLAUGHTER': 'MURDER'\n",
    "    }\n",
    "df1['OFNS_DESC'] = df1['OFNS_DESC'].replace(d)"
   ]
  },
  {
   "cell_type": "code",
   "execution_count": 191,
   "metadata": {},
   "outputs": [
    {
     "name": "stdout",
     "output_type": "stream",
     "text": [
      "MURDER\n",
      "ASSAULT\n",
      "PETIT LARCENY\n",
      "GRAND LARCENY\n",
      "ROBBERY\n",
      "HARRASSMENT\n",
      "GRAND LARCENY OF MOTOR VEHICLE\n",
      "PETIT LARCENY OF MOTOR VEHICLE\n",
      "KIDNAPPING\n",
      "NEGLIGENT HOMICIDE\n"
     ]
    }
   ],
   "source": [
    "# check out the new crime names\n",
    "for i in df1['OFNS_DESC'].unique():\n",
    "    print(i)"
   ]
  },
  {
   "cell_type": "code",
   "execution_count": 192,
   "metadata": {},
   "outputs": [],
   "source": [
    "# import populations of precinct \n",
    "# source https://fusiontables.google.com/DataSource?dsrcid=767562#rows:id=1\n",
    "pdf = pd.read_csv('/home/jakesell/Documents/datachall/NYC_Blocks_2010CensusData_Plus_Precincts.csv')"
   ]
  },
  {
   "cell_type": "code",
   "execution_count": 193,
   "metadata": {},
   "outputs": [],
   "source": [
    "# create series that relates pricinct to its total population\n",
    "s = pdf.groupby('precinct')['P0010001'].sum()"
   ]
  },
  {
   "cell_type": "code",
   "execution_count": 194,
   "metadata": {},
   "outputs": [],
   "source": [
    "def getPop(p):\n",
    "    \"\"\"\n",
    "    Get the population of a precinct based on precinct number\n",
    "    \n",
    "    Input: p (precinct, int)\n",
    "    Output: total population (int)\n",
    "    \"\"\"\n",
    "    try:\n",
    "        return s[p]\n",
    "    except KeyError:\n",
    "        return 0\n",
    "    \n",
    "# add column with a row's precinct population\n",
    "df1['precint_pop'] = df1['ADDR_PCT_CD'].map(lambda x: getPop(x))"
   ]
  },
  {
   "cell_type": "code",
   "execution_count": 195,
   "metadata": {
    "collapsed": true
   },
   "outputs": [],
   "source": [
    "df1.to_csv('CleanedCrimeData0.csv') # export"
   ]
  },
  {
   "cell_type": "code",
   "execution_count": 196,
   "metadata": {},
   "outputs": [
    {
     "data": {
      "text/html": [
       "<div>\n",
       "<style>\n",
       "    .dataframe thead tr:only-child th {\n",
       "        text-align: right;\n",
       "    }\n",
       "\n",
       "    .dataframe thead th {\n",
       "        text-align: left;\n",
       "    }\n",
       "\n",
       "    .dataframe tbody tr th {\n",
       "        vertical-align: top;\n",
       "    }\n",
       "</style>\n",
       "<table border=\"1\" class=\"dataframe\">\n",
       "  <thead>\n",
       "    <tr style=\"text-align: right;\">\n",
       "      <th></th>\n",
       "      <th>CMPLNT_NUM</th>\n",
       "      <th>CMPLNT_FR_DT</th>\n",
       "      <th>CMPLNT_FR_TM</th>\n",
       "      <th>CMPLNT_TO_DT</th>\n",
       "      <th>CMPLNT_TO_TM</th>\n",
       "      <th>RPT_DT</th>\n",
       "      <th>KY_CD</th>\n",
       "      <th>OFNS_DESC</th>\n",
       "      <th>PD_CD</th>\n",
       "      <th>PD_DESC</th>\n",
       "      <th>...</th>\n",
       "      <th>PREM_TYP_DESC</th>\n",
       "      <th>PARKS_NM</th>\n",
       "      <th>HADEVELOPT</th>\n",
       "      <th>X_COORD_CD</th>\n",
       "      <th>Y_COORD_CD</th>\n",
       "      <th>Latitude</th>\n",
       "      <th>Longitude</th>\n",
       "      <th>Lat_Lon</th>\n",
       "      <th>SEASON</th>\n",
       "      <th>precint_pop</th>\n",
       "    </tr>\n",
       "  </thead>\n",
       "  <tbody>\n",
       "    <tr>\n",
       "      <th>1</th>\n",
       "      <td>153401121</td>\n",
       "      <td>12/31/2015</td>\n",
       "      <td>23:36:00</td>\n",
       "      <td>NaN</td>\n",
       "      <td>NaN</td>\n",
       "      <td>12/31/2015</td>\n",
       "      <td>101</td>\n",
       "      <td>MURDER</td>\n",
       "      <td>NaN</td>\n",
       "      <td>NaN</td>\n",
       "      <td>...</td>\n",
       "      <td>NaN</td>\n",
       "      <td>NaN</td>\n",
       "      <td>NaN</td>\n",
       "      <td>1043991.0</td>\n",
       "      <td>193406.0</td>\n",
       "      <td>40.697338</td>\n",
       "      <td>-73.784557</td>\n",
       "      <td>(40.697338138, -73.784556739)</td>\n",
       "      <td>WINTER</td>\n",
       "      <td>105803</td>\n",
       "    </tr>\n",
       "    <tr>\n",
       "      <th>4</th>\n",
       "      <td>641637920</td>\n",
       "      <td>12/31/2015</td>\n",
       "      <td>23:25:00</td>\n",
       "      <td>12/31/2015</td>\n",
       "      <td>23:30:00</td>\n",
       "      <td>12/31/2015</td>\n",
       "      <td>344</td>\n",
       "      <td>ASSAULT</td>\n",
       "      <td>101.0</td>\n",
       "      <td>ASSAULT 3</td>\n",
       "      <td>...</td>\n",
       "      <td>OTHER</td>\n",
       "      <td>NaN</td>\n",
       "      <td>NaN</td>\n",
       "      <td>987606.0</td>\n",
       "      <td>208148.0</td>\n",
       "      <td>40.738002</td>\n",
       "      <td>-73.987891</td>\n",
       "      <td>(40.7380024, -73.98789129)</td>\n",
       "      <td>WINTER</td>\n",
       "      <td>93640</td>\n",
       "    </tr>\n",
       "    <tr>\n",
       "      <th>5</th>\n",
       "      <td>365661343</td>\n",
       "      <td>12/31/2015</td>\n",
       "      <td>23:18:00</td>\n",
       "      <td>12/31/2015</td>\n",
       "      <td>23:25:00</td>\n",
       "      <td>12/31/2015</td>\n",
       "      <td>106</td>\n",
       "      <td>ASSAULT</td>\n",
       "      <td>109.0</td>\n",
       "      <td>ASSAULT 2,1,UNCLASSIFIED</td>\n",
       "      <td>...</td>\n",
       "      <td>DRUG STORE</td>\n",
       "      <td>NaN</td>\n",
       "      <td>NaN</td>\n",
       "      <td>996149.0</td>\n",
       "      <td>181562.0</td>\n",
       "      <td>40.665023</td>\n",
       "      <td>-73.957111</td>\n",
       "      <td>(40.665022689, -73.957110763)</td>\n",
       "      <td>WINTER</td>\n",
       "      <td>98429</td>\n",
       "    </tr>\n",
       "    <tr>\n",
       "      <th>9</th>\n",
       "      <td>415095955</td>\n",
       "      <td>12/31/2015</td>\n",
       "      <td>23:10:00</td>\n",
       "      <td>12/31/2015</td>\n",
       "      <td>23:10:00</td>\n",
       "      <td>12/31/2015</td>\n",
       "      <td>341</td>\n",
       "      <td>PETIT LARCENY</td>\n",
       "      <td>338.0</td>\n",
       "      <td>LARCENY,PETIT FROM BUILDING,UN</td>\n",
       "      <td>...</td>\n",
       "      <td>DRUG STORE</td>\n",
       "      <td>NaN</td>\n",
       "      <td>NaN</td>\n",
       "      <td>994327.0</td>\n",
       "      <td>218211.0</td>\n",
       "      <td>40.765618</td>\n",
       "      <td>-73.963623</td>\n",
       "      <td>(40.765617688, -73.96362342)</td>\n",
       "      <td>WINTER</td>\n",
       "      <td>208259</td>\n",
       "    </tr>\n",
       "    <tr>\n",
       "      <th>10</th>\n",
       "      <td>731283092</td>\n",
       "      <td>12/31/2015</td>\n",
       "      <td>23:05:00</td>\n",
       "      <td>12/31/2015</td>\n",
       "      <td>23:15:00</td>\n",
       "      <td>12/31/2015</td>\n",
       "      <td>341</td>\n",
       "      <td>PETIT LARCENY</td>\n",
       "      <td>343.0</td>\n",
       "      <td>LARCENY,PETIT OF BICYCLE</td>\n",
       "      <td>...</td>\n",
       "      <td>FAST FOOD</td>\n",
       "      <td>NaN</td>\n",
       "      <td>NaN</td>\n",
       "      <td>1014216.0</td>\n",
       "      <td>238784.0</td>\n",
       "      <td>40.822040</td>\n",
       "      <td>-73.891732</td>\n",
       "      <td>(40.822039935, -73.891732267)</td>\n",
       "      <td>WINTER</td>\n",
       "      <td>52246</td>\n",
       "    </tr>\n",
       "  </tbody>\n",
       "</table>\n",
       "<p>5 rows × 26 columns</p>\n",
       "</div>"
      ],
      "text/plain": [
       "    CMPLNT_NUM CMPLNT_FR_DT CMPLNT_FR_TM CMPLNT_TO_DT CMPLNT_TO_TM  \\\n",
       "1    153401121   12/31/2015     23:36:00          NaN          NaN   \n",
       "4    641637920   12/31/2015     23:25:00   12/31/2015     23:30:00   \n",
       "5    365661343   12/31/2015     23:18:00   12/31/2015     23:25:00   \n",
       "9    415095955   12/31/2015     23:10:00   12/31/2015     23:10:00   \n",
       "10   731283092   12/31/2015     23:05:00   12/31/2015     23:15:00   \n",
       "\n",
       "        RPT_DT  KY_CD      OFNS_DESC  PD_CD                         PD_DESC  \\\n",
       "1   12/31/2015    101         MURDER    NaN                             NaN   \n",
       "4   12/31/2015    344        ASSAULT  101.0                       ASSAULT 3   \n",
       "5   12/31/2015    106        ASSAULT  109.0        ASSAULT 2,1,UNCLASSIFIED   \n",
       "9   12/31/2015    341  PETIT LARCENY  338.0  LARCENY,PETIT FROM BUILDING,UN   \n",
       "10  12/31/2015    341  PETIT LARCENY  343.0        LARCENY,PETIT OF BICYCLE   \n",
       "\n",
       "       ...      PREM_TYP_DESC PARKS_NM HADEVELOPT X_COORD_CD  Y_COORD_CD  \\\n",
       "1      ...                NaN      NaN        NaN  1043991.0    193406.0   \n",
       "4      ...              OTHER      NaN        NaN   987606.0    208148.0   \n",
       "5      ...         DRUG STORE      NaN        NaN   996149.0    181562.0   \n",
       "9      ...         DRUG STORE      NaN        NaN   994327.0    218211.0   \n",
       "10     ...          FAST FOOD      NaN        NaN  1014216.0    238784.0   \n",
       "\n",
       "     Latitude  Longitude                        Lat_Lon  SEASON  precint_pop  \n",
       "1   40.697338 -73.784557  (40.697338138, -73.784556739)  WINTER       105803  \n",
       "4   40.738002 -73.987891     (40.7380024, -73.98789129)  WINTER        93640  \n",
       "5   40.665023 -73.957111  (40.665022689, -73.957110763)  WINTER        98429  \n",
       "9   40.765618 -73.963623   (40.765617688, -73.96362342)  WINTER       208259  \n",
       "10  40.822040 -73.891732  (40.822039935, -73.891732267)  WINTER        52246  \n",
       "\n",
       "[5 rows x 26 columns]"
      ]
     },
     "execution_count": 196,
     "metadata": {},
     "output_type": "execute_result"
    }
   ],
   "source": [
    "df1.head()"
   ]
  },
  {
   "cell_type": "code",
   "execution_count": null,
   "metadata": {
    "collapsed": true
   },
   "outputs": [],
   "source": []
  }
 ],
 "metadata": {
  "kernelspec": {
   "display_name": "Python 3",
   "language": "python",
   "name": "python3"
  },
  "language_info": {
   "codemirror_mode": {
    "name": "ipython",
    "version": 3
   },
   "file_extension": ".py",
   "mimetype": "text/x-python",
   "name": "python",
   "nbconvert_exporter": "python",
   "pygments_lexer": "ipython3",
   "version": "3.5.2"
  }
 },
 "nbformat": 4,
 "nbformat_minor": 2
}
